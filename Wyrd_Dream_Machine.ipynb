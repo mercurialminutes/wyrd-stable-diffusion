{
  "cells": [
    {
      "cell_type": "markdown",
      "metadata": {
        "id": "5_JvQN-5LjLk"
      },
      "source": [
        "# Settings"
      ]
    },
    {
      "cell_type": "markdown",
      "metadata": {
        "id": "bjuDU6rrLfkm"
      },
      "source": [
        "Check GPU"
      ]
    },
    {
      "cell_type": "code",
      "execution_count": null,
      "metadata": {
        "id": "e0H48VEBLWkh"
      },
      "outputs": [],
      "source": [
        "!nvidia-smi"
      ]
    },
    {
      "cell_type": "code",
      "execution_count": null,
      "metadata": {
        "id": "XG7z77iL3p_t"
      },
      "outputs": [],
      "source": [
        "import os\n",
        "\n",
        "main_folder = \"outputs\"\n",
        "os.mkdir(\"/\" + main_folder)"
      ]
    },
    {
      "cell_type": "code",
      "execution_count": null,
      "metadata": {
        "id": "fxCKW6mjLq6f"
      },
      "outputs": [],
      "source": [
        "!pip install diffusers==0.3.0\n",
        "!pip install transformers scipy ftfy\n",
        "!pip install \"ipywidgets>=7,<8\"\n",
        "\n",
        "from google.colab import output\n",
        "from huggingface_hub import notebook_login\n",
        "\n",
        "output.enable_custom_widget_manager()\n",
        "notebook_login()"
      ]
    },
    {
      "cell_type": "markdown",
      "metadata": {
        "id": "uIyhpGMMUSy0"
      },
      "source": [
        "Download and load pipelines"
      ]
    },
    {
      "cell_type": "code",
      "execution_count": null,
      "metadata": {
        "id": "LaRubPpZLyzS"
      },
      "outputs": [],
      "source": [
        "import torch\n",
        "from torch import autocast\n",
        "import string, random\n",
        "from time import sleep\n",
        "import inspect\n",
        "import warnings\n",
        "from typing import List, Optional, Union\n",
        "from tqdm.auto import tqdm\n",
        "from IPython.display import clear_output \n",
        "import requests\n",
        "import json\n",
        "import numpy\n",
        "import time\n",
        "import contextlib\n",
        "from IPython.display import display, Javascript\n",
        "from google.colab.output import eval_js\n",
        "from base64 import b64encode\n",
        "import cv2\n",
        "import math\n",
        "\n",
        "from diffusers import StableDiffusionImg2ImgPipeline\n",
        "from diffusers import StableDiffusionPipeline\n",
        "\n",
        "device = \"cuda\"\n",
        "model_path = \"CompVis/stable-diffusion-v1-4\"\n",
        "\n",
        "basic_pipe = StableDiffusionPipeline.from_pretrained(\n",
        "    model_path, \n",
        "    revision=\"fp16\", \n",
        "    torch_dtype=torch.float16, \n",
        "    use_auth_token=True)\n",
        "\n",
        "basic_pipe = basic_pipe.to(device)\n",
        "\n",
        "img2img_pipe = StableDiffusionImg2ImgPipeline.from_pretrained(\n",
        "    model_path,\n",
        "    revision=\"fp16\", \n",
        "    torch_dtype=torch.float16,\n",
        "    use_auth_token=True\n",
        ")\n",
        "img2img_pipe = img2img_pipe.to(device)\n",
        "\n",
        "\n",
        "def dummy_checker(images, **kwargs): return images, False\n",
        "img2img_pipe.safety_checker = dummy_checker\n",
        "basic_pipe.safety_checker = dummy_checker"
      ]
    },
    {
      "cell_type": "code",
      "execution_count": null,
      "metadata": {
        "id": "NO5VZsqSkWQp"
      },
      "outputs": [],
      "source": [
        "def imshow(name, img):\n",
        "  \"\"\"Put frame as <img src=\"data:image/jpg;base64,....\"> \"\"\"\n",
        "\n",
        "  js = Javascript('''\n",
        "  async function showImage(name, image, width, height) {\n",
        "    img = document.getElementById(name);\n",
        "    if(img == null) {\n",
        "      img = document.createElement('img');\n",
        "      img.id = name;\n",
        "      document.body.appendChild(img);\n",
        "    }\n",
        "    img.src = image;\n",
        "    img.width = width;\n",
        "    img.height = height;\n",
        "  }\n",
        "  ''')\n",
        "\n",
        "  height, width = img.shape[:2]\n",
        "\n",
        "  ret, data = cv2.imencode('.jpg', img)   # compress array of pixels to JPG data\n",
        "  data = b64encode(data)                  # encode base64\n",
        "  data = data.decode()                    # convert bytes to string\n",
        "  data = 'data:image/jpg;base64,' + data  # join header (\"data:image/jpg;base64,\") and base64 data (JPG)\n",
        "\n",
        "  display(js)\n",
        "  eval_js(f'showImage(\"{name}\", \"{data}\", {width}, {height})')  # run JavaScript code to put image (JPG as string base64) in <img>\n",
        "                                          # `name` and `data` in needs `\" \"` to send it as text, not as name of variabe."
      ]
    },
    {
      "cell_type": "code",
      "execution_count": null,
      "metadata": {
        "id": "SCwR4GsIklJ_"
      },
      "outputs": [],
      "source": [
        "def display_custom(pil_image):\n",
        "  pil_image.save(folder_name + \"/img\" + str(math.floor(time.time())) + \".jpg\")\n",
        "  frame1 = cv2.cvtColor(numpy.array(pil_image), cv2.COLOR_RGB2BGR)\n",
        "  frame1 = cv2.resize(src=frame1, dsize=(0,0), fx=2, fy=2)\n",
        "  imshow(\"temp\", frame1)"
      ]
    },
    {
      "cell_type": "markdown",
      "metadata": {
        "id": "_DBhfKxgXrOt"
      },
      "source": [
        "Random.org endpooint integration"
      ]
    },
    {
      "cell_type": "code",
      "source": [
        "api_key = \"xxx\""
      ],
      "metadata": {
        "id": "F-QoO06Mz2yR"
      },
      "execution_count": null,
      "outputs": []
    },
    {
      "cell_type": "code",
      "execution_count": null,
      "metadata": {
        "id": "uc_XX93EXoaQ"
      },
      "outputs": [],
      "source": [
        "random_json = {\n",
        "    \"jsonrpc\": \"2.0\",\n",
        "    \"method\": \"generateStrings\",\n",
        "    \"params\": {\n",
        "        \"apiKey\": api_key,\n",
        "        \"n\": 1,\n",
        "        \"length\": 10,\n",
        "        \"characters\": \"abcdefghijklmnopqrstuvwxyz0123456789 \",\n",
        "        \"replacement\": True\n",
        "    },\n",
        "    \"id\": 42\n",
        "}\n",
        "\n",
        "headers = {'Content-type': 'application/json','Content-Length': '200', 'Accept': 'application/json'}\n",
        "\n",
        "data=json.dumps(random_json)\n",
        "\n",
        "def get_random_string():\n",
        "  response = requests.post(\n",
        "    url='https://api.random.org/json-rpc/2/invoke',\n",
        "    data=data,\n",
        "    headers=headers\n",
        "    )\n",
        "  return(json.loads(response.text)['result']['random']['data'][0])\n"
      ]
    },
    {
      "cell_type": "code",
      "execution_count": null,
      "metadata": {
        "id": "Wt0yKVK2GZzv"
      },
      "outputs": [],
      "source": [
        "max_int = 2147483647\n",
        "random_int = {\n",
        "    \"jsonrpc\": \"2.0\",\n",
        "    \"method\": \"generateIntegers\",\n",
        "    \"params\": {\n",
        "        \"apiKey\": api_key,\n",
        "        \"n\": 1,\n",
        "        \"min\": 0,\n",
        "        \"max\": 200000000,\n",
        "        \"replacement\": True\n",
        "    },\n",
        "    \"id\": 42\n",
        "}\n",
        "\n",
        "headers = {'Content-type': 'application/json','Content-Length': '200', 'Accept': 'application/json'}\n",
        "\n",
        "data_int=json.dumps(random_int)\n",
        "\n",
        "def get_random_int():\n",
        "  response = requests.post(\n",
        "    url='https://api.random.org/json-rpc/2/invoke',\n",
        "    data=data_int,\n",
        "    headers=headers\n",
        "    )\n",
        "  print(json.loads(response.text))\n",
        "  return(int(json.loads(response.text)['result']['random']['data'][0]))\n"
      ]
    },
    {
      "cell_type": "markdown",
      "metadata": {
        "id": "kf1C5cqWLmxx"
      },
      "source": [
        "# Stream"
      ]
    },
    {
      "cell_type": "code",
      "execution_count": null,
      "metadata": {
        "id": "fSGi990lUlNc"
      },
      "outputs": [],
      "source": [
        "n_images = 100\n",
        "init_image_steps = 25\n",
        "experiment_name = \"test\""
      ]
    },
    {
      "cell_type": "code",
      "execution_count": null,
      "metadata": {
        "id": "ZFxpf23vLyMf"
      },
      "outputs": [],
      "source": [
        "prompt = get_random_string()\n",
        "from IPython.utils import io\n",
        "\n",
        "folder_name = \"/\" + main_folder + \"/\" + experiment_name + \"_\" + str(math.floor(time.time()))\n",
        "os.mkdir(folder_name)\n",
        "\n",
        "# pseudo = ''.join(random.choice(string.ascii_lowercase) for _ in range(int(random.uniform(1,15))))\n",
        "\n",
        "with autocast(device):  \n",
        "  with io.capture_output() as captured:\n",
        "    image = basic_pipe(prompt, num_inference_steps=init_image_steps).images[0] \n",
        "\n",
        "display_custom(image)\n",
        "\n",
        "for i in range(n_images):\n",
        "  # prompt = get_random_string()\n",
        "\n",
        "  # generator = torch.Generator(\"cuda\").manual_seed(1024)\n",
        "  # image = basic_pipe(prompt, num_inference_steps=init_image_steps).images[0] \n",
        "\n",
        "  with autocast(device):  \n",
        "    #with io.capture_output() as captured:\n",
        "      generator = torch.Generator(\"cuda\").manual_seed(get_random_int())\n",
        "      image = basic_pipe(prompt, num_inference_steps=init_image_steps, generator = generator).images[0] \n",
        "      #image = basic_pipe(prompt, num_inference_steps=25).images[0] \n",
        "   \n",
        "  display_custom(image)"
      ]
    },
    {
      "cell_type": "markdown",
      "metadata": {
        "id": "sTIt4K3e22eV"
      },
      "source": [
        "Post processing"
      ]
    },
    {
      "cell_type": "markdown",
      "metadata": {
        "id": "NUCnGUxk81O4"
      },
      "source": [
        "# 4 Grid Static"
      ]
    },
    {
      "cell_type": "code",
      "execution_count": null,
      "metadata": {
        "id": "NwXO_FY0-sqz"
      },
      "outputs": [],
      "source": [
        "from PIL import Image\n",
        "\n",
        "def image_grid(imgs, rows, cols):\n",
        "    assert len(imgs) == rows*cols\n",
        "\n",
        "    w, h = imgs[0].size\n",
        "    grid = Image.new('RGB', size=(cols*w, rows*h))\n",
        "    grid_w, grid_h = grid.size\n",
        "    \n",
        "    for i, img in enumerate(imgs):\n",
        "        grid.paste(img, box=(i%cols*w, i//cols*h))\n",
        "    grid.save(folder_name + \"/img\" + str(math.floor(time.time())) + \".jpg\")\n",
        "    return grid"
      ]
    },
    {
      "cell_type": "code",
      "execution_count": null,
      "metadata": {
        "colab": {
          "background_save": true
        },
        "id": "lGlbKahR9GS5"
      },
      "outputs": [],
      "source": [
        "prompt = [get_random_string()] * 4\n",
        "from IPython.utils import io\n",
        "\n",
        "folder_name = \"/\" + main_folder + \"/\" + experiment_name + \"_4grid_\" + str(math.floor(time.time()))\n",
        "os.mkdir(folder_name)\n",
        "\n",
        "with autocast(device):  \n",
        "  with io.capture_output() as captured:\n",
        "    images = basic_pipe(prompt, num_inference_steps=init_image_steps).images\n",
        "\n",
        "grid = image_grid(images, rows=2, cols=2)\n",
        "grid\n"
      ]
    },
    {
      "cell_type": "markdown",
      "metadata": {
        "id": "1JlbJwPw8-HN"
      },
      "source": [
        "# Outro\n"
      ]
    },
    {
      "cell_type": "code",
      "execution_count": null,
      "metadata": {
        "id": "leITxsCP23-L"
      },
      "outputs": [],
      "source": [
        "import shutil\n",
        "shutil.make_archive(\"/\" + main_folder, 'zip', \"/\" + main_folder)"
      ]
    }
  ],
  "metadata": {
    "accelerator": "GPU",
    "colab": {
      "collapsed_sections": [],
      "provenance": []
    },
    "gpuClass": "standard",
    "kernelspec": {
      "display_name": "Python 3",
      "name": "python3"
    },
    "language_info": {
      "name": "python"
    }
  },
  "nbformat": 4,
  "nbformat_minor": 0
}
